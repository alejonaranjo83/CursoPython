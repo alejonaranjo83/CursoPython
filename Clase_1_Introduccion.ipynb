{
 "cells": [
  {
   "cell_type": "markdown",
   "metadata": {},
   "source": [
    "# Clase 1:\n",
    "\n",
    "1. Variables básicas.\n",
    "2. Listas y diccionarios.\n",
    "3. Comandos basicos de python.\n",
    "4. Funciones"
   ]
  },
  {
   "cell_type": "markdown",
   "metadata": {},
   "source": [
    "## 1. Variables Basicas\n",
    "\n",
    "Python cuenta con variables del tipo **flotante**, **entero**, **caracter** e imaginarias.  Los flotantes equivalen a números reales, los enteros a contables y los caracteres a caderas alfanumericas.  \n",
    "\n",
    "- flotante: a = 2.0\n",
    "- entero: b = 2\n",
    "- caracter: c = '2'\n",
    "\n",
    "En los tres casos se asignó el 2, sin embargo **a** es un flotante, **b** un entero y **c** un número, esto implica diferencias en python: "
   ]
  },
  {
   "cell_type": "code",
   "execution_count": 1,
   "metadata": {
    "collapsed": true
   },
   "outputs": [],
   "source": [
    "a = 2.0\n",
    "b = 2\n",
    "c = '2'"
   ]
  },
  {
   "cell_type": "code",
   "execution_count": 2,
   "metadata": {},
   "outputs": [
    {
     "name": "stdout",
     "output_type": "stream",
     "text": [
      "4.0\n"
     ]
    }
   ],
   "source": [
    "print a + b"
   ]
  },
  {
   "cell_type": "code",
   "execution_count": 3,
   "metadata": {},
   "outputs": [
    {
     "name": "stdout",
     "output_type": "stream",
     "text": [
      "0.5\n"
     ]
    }
   ],
   "source": [
    "print a/4"
   ]
  },
  {
   "cell_type": "markdown",
   "metadata": {},
   "source": [
    "En el caso de **a** cualquier operación deriva en un número **flotante**"
   ]
  },
  {
   "cell_type": "code",
   "execution_count": 4,
   "metadata": {},
   "outputs": [
    {
     "name": "stdout",
     "output_type": "stream",
     "text": [
      "0\n"
     ]
    }
   ],
   "source": [
    "print b/4"
   ]
  },
  {
   "cell_type": "markdown",
   "metadata": {},
   "source": [
    "En el caso de **b** no, este se asume como entero y las operaciones entre enteros derivan en valores enteros en los cuales no se cuenta con cifras decimales y se aproxima."
   ]
  },
  {
   "cell_type": "code",
   "execution_count": 5,
   "metadata": {},
   "outputs": [
    {
     "ename": "TypeError",
     "evalue": "unsupported operand type(s) for /: 'str' and 'int'",
     "output_type": "error",
     "traceback": [
      "\u001b[0;31m---------------------------------------------------------------------------\u001b[0m",
      "\u001b[0;31mTypeError\u001b[0m                                 Traceback (most recent call last)",
      "\u001b[0;32m<ipython-input-5-0e47faf32f78>\u001b[0m in \u001b[0;36m<module>\u001b[0;34m()\u001b[0m\n\u001b[0;32m----> 1\u001b[0;31m \u001b[0;32mprint\u001b[0m \u001b[0mc\u001b[0m \u001b[0;34m/\u001b[0m \u001b[0;36m4\u001b[0m\u001b[0;34m\u001b[0m\u001b[0m\n\u001b[0m",
      "\u001b[0;31mTypeError\u001b[0m: unsupported operand type(s) for /: 'str' and 'int'"
     ]
    }
   ],
   "source": [
    "print c / 4"
   ]
  },
  {
   "cell_type": "markdown",
   "metadata": {},
   "source": [
    "En el caso de **c** tenemos un error, esto se debe a que **c** como tal no es un número, es un caracter con el cual no se pueden hacer operaciones. Antes debe ser convertido."
   ]
  },
  {
   "cell_type": "code",
   "execution_count": 6,
   "metadata": {
    "collapsed": true
   },
   "outputs": [],
   "source": [
    "d = a + b"
   ]
  },
  {
   "cell_type": "markdown",
   "metadata": {},
   "source": [
    "La asignación de una operación a una variable se realiza de derecha a izquierda, en este caso **d** se convierte en un número **flotante** equivalente a la suma de **a** y **b**.\n",
    "\n",
    "Existen formas de hacer que una variable cambie de tipo, para esto se usan los comandos:\n",
    "- convertir a flotante: float()\n",
    "- convertir a entero: int()\n",
    "- convertir a cadena: str()\n",
    "\n",
    "**Ejercicio**: Con las variables ya definidas, logre en una línea obtener la suma de **a**, **b** y **c**."
   ]
  },
  {
   "cell_type": "markdown",
   "metadata": {},
   "source": []
  },
  {
   "cell_type": "markdown",
   "metadata": {},
   "source": [
    "A diferencia de los flotantes o de los enteros, los **caracteres** se comportan como una cadena, esto quiere decir que cada letra o número es una entrada en un estilo de lista, así la palabra 'hola' se encuentra compuesta por 4 entradas.\n",
    "\n",
    "- 'hola' -> 'h' 'o' 'l' 'a'\n",
    "\n",
    "Las entradas de un caracter se cuentan desde cero hasta el número de elementos menos uno.  En 'hola' la entrada 0 es la 'h' y la entrada 1 es la 'o', la entrada N-1 es la 'a'. Ejemplo:"
   ]
  },
  {
   "cell_type": "code",
   "execution_count": 7,
   "metadata": {
    "collapsed": true
   },
   "outputs": [],
   "source": [
    "a = 'hola mundo'"
   ]
  },
  {
   "cell_type": "code",
   "execution_count": 8,
   "metadata": {},
   "outputs": [
    {
     "data": {
      "text/plain": [
       "'h'"
      ]
     },
     "execution_count": 8,
     "metadata": {},
     "output_type": "execute_result"
    }
   ],
   "source": [
    "#llamado a la primera entrada\n",
    "a[0]"
   ]
  },
  {
   "cell_type": "code",
   "execution_count": 10,
   "metadata": {},
   "outputs": [
    {
     "data": {
      "text/plain": [
       "'o'"
      ]
     },
     "execution_count": 10,
     "metadata": {},
     "output_type": "execute_result"
    }
   ],
   "source": [
    "#Llamado a la ultima entrada\n",
    "a[-1]"
   ]
  },
  {
   "cell_type": "code",
   "execution_count": 11,
   "metadata": {},
   "outputs": [
    {
     "data": {
      "text/plain": [
       "'hola'"
      ]
     },
     "execution_count": 11,
     "metadata": {},
     "output_type": "execute_result"
    }
   ],
   "source": [
    "#llamado a las 4 primeras entradas\n",
    "a[:4]"
   ]
  },
  {
   "cell_type": "code",
   "execution_count": 13,
   "metadata": {},
   "outputs": [
    {
     "data": {
      "text/plain": [
       "'la mu'"
      ]
     },
     "execution_count": 13,
     "metadata": {},
     "output_type": "execute_result"
    }
   ],
   "source": [
    "#llamado a las entradas entre la 3 y la 6\n",
    "a[2:7]"
   ]
  },
  {
   "cell_type": "code",
   "execution_count": 15,
   "metadata": {},
   "outputs": [
    {
     "data": {
      "text/plain": [
       "'mundo'"
      ]
     },
     "execution_count": 15,
     "metadata": {},
     "output_type": "execute_result"
    }
   ],
   "source": [
    "#llamado de las ultimas 4\n",
    "a[-5:]"
   ]
  },
  {
   "cell_type": "code",
   "execution_count": 16,
   "metadata": {},
   "outputs": [
    {
     "data": {
      "text/plain": [
       "'odnum aloh'"
      ]
     },
     "execution_count": 16,
     "metadata": {},
     "output_type": "execute_result"
    }
   ],
   "source": [
    "#llamado invertido \n",
    "a[::-1]"
   ]
  },
  {
   "cell_type": "code",
   "execution_count": 17,
   "metadata": {},
   "outputs": [
    {
     "data": {
      "text/plain": [
       "'hl ud'"
      ]
     },
     "execution_count": 17,
     "metadata": {},
     "output_type": "execute_result"
    }
   ],
   "source": [
    "#llamado de 2 en 2\n",
    "a[::2]"
   ]
  },
  {
   "cell_type": "code",
   "execution_count": 18,
   "metadata": {},
   "outputs": [
    {
     "data": {
      "text/plain": [
       "'onmao'"
      ]
     },
     "execution_count": 18,
     "metadata": {},
     "output_type": "execute_result"
    }
   ],
   "source": [
    "#llamado de 2 en 2 invertido\n",
    "a[::-2]"
   ]
  },
  {
   "cell_type": "markdown",
   "metadata": {},
   "source": [
    "**Ejercicio**: Teniendo en cuenta que dos cadenas se pueden **concatenar** o juntar mediante el símbolo **+**, de la forma $a = a + 'hola'$, y que una variable puede apuntar a ella misma, logre formar la palabra 'hola mundo onmao' utilizando únicamente la variable **a** descrita en los ejemplos anteriores."
   ]
  },
  {
   "cell_type": "code",
   "execution_count": null,
   "metadata": {
    "collapsed": true
   },
   "outputs": [],
   "source": []
  },
  {
   "cell_type": "markdown",
   "metadata": {},
   "source": [
    "## 2. Listas y Diccionarios\n",
    "\n",
    "- **Listas**: Variable propia de python, no es una matriz tampoco un vector, es más bien una lista, como la que se usa cuando se va al mercado.  Algunas propiedades de las listas:\n",
    "    - Guardan cualquier tipo de variable.\n",
    "    - Pueden alojar variables de diferentes tamaños.\n",
    "    - No se limitan a un sólo tipo de variable por lista.\n",
    "    - Pueden contener a otras listas en un interior.\n",
    "    - Indexan lo que se les ingresa desde 0 hasta $N-1$ de acuerdo al orden de ingreso.\n",
    "    - Son mutables: se pueden agregar o quitar elementos en cualquier momento.\n",
    "    - Pueden almacenar diccionarios.\n",
    "    \n",
    "    \n",
    "- **Diccionarios**: También es de python (se parece a un json), y tienen ciertas características de las listas, sin embargo, sufren algunos cambios importantes, tales como:\n",
    "    - Pueden almacenar listas y diccionarios (enciclopedia).\n",
    "    - Pueden ser mutados.\n",
    "    - Indexan mediante un nombre o variable tipo **caracter** llamado **key**, a diferencia de las listas no tienen un orden de ingreso fijo y los llamados a las entradas se realizan mediante los nombres asignados."
   ]
  },
  {
   "cell_type": "code",
   "execution_count": 24,
   "metadata": {
    "collapsed": true
   },
   "outputs": [],
   "source": [
    "#La definición de una lista puede realizarse de 2 formas:\n",
    "L = []\n",
    "L = list()\n",
    "#Ambas construcciones son iguales y dan como resultado una lista vacia "
   ]
  },
  {
   "cell_type": "code",
   "execution_count": 70,
   "metadata": {
    "collapsed": true
   },
   "outputs": [],
   "source": [
    "#Se pueden construir listas con datos en su interior:\n",
    "L1 = [1,2,3,4]\n",
    "#Pueden contener diferentes tipos de datos \n",
    "L2 = [1,2.0, 4.5, 5, 'hola']\n",
    "#Pueden contener a otras listas \n",
    "L3 = [1, 3, L1, 4.0, L2, 'hola']\n",
    "#El anidado de listas no tiene limite, aca tenemos una lista con 2 listas anidadas.\n",
    "L4 = [[1,2,3], L1, L2, L3]"
   ]
  },
  {
   "cell_type": "markdown",
   "metadata": {},
   "source": [
    "Al interior de las listas se llaman los elementos mediante su **index**, de manera similar a como se hace con los caracteres:"
   ]
  },
  {
   "cell_type": "code",
   "execution_count": 33,
   "metadata": {},
   "outputs": [
    {
     "data": {
      "text/plain": [
       "1"
      ]
     },
     "execution_count": 33,
     "metadata": {},
     "output_type": "execute_result"
    }
   ],
   "source": [
    "#La primera entrada\n",
    "L1[0]"
   ]
  },
  {
   "cell_type": "code",
   "execution_count": 32,
   "metadata": {},
   "outputs": [
    {
     "data": {
      "text/plain": [
       "[1, 2, 3, 4]"
      ]
     },
     "execution_count": 32,
     "metadata": {},
     "output_type": "execute_result"
    }
   ],
   "source": [
    "#Todas las entradas\n",
    "L1[:]"
   ]
  },
  {
   "cell_type": "code",
   "execution_count": 34,
   "metadata": {},
   "outputs": [
    {
     "data": {
      "text/plain": [
       "3"
      ]
     },
     "execution_count": 34,
     "metadata": {},
     "output_type": "execute_result"
    }
   ],
   "source": [
    "#La ultima entrada de la primera entrada \n",
    "L4[0][-1]"
   ]
  },
  {
   "cell_type": "code",
   "execution_count": 38,
   "metadata": {},
   "outputs": [
    {
     "data": {
      "text/plain": [
       "[1, 2.0, 4.5, 5, 'hola']"
      ]
     },
     "execution_count": 38,
     "metadata": {},
     "output_type": "execute_result"
    }
   ],
   "source": [
    "#Todas las entradas de la tercera entrada\n",
    "L4[2][:]"
   ]
  },
  {
   "cell_type": "markdown",
   "metadata": {},
   "source": [
    "**Ejercicio**: Logre imprimir la palabra 'hola' utilizando unicamente la variable L4, y hagalo en un sólo comando."
   ]
  },
  {
   "cell_type": "code",
   "execution_count": null,
   "metadata": {
    "collapsed": true
   },
   "outputs": [],
   "source": []
  },
  {
   "cell_type": "markdown",
   "metadata": {},
   "source": [
    "Las Listas además de ser buenas para alojar variables se consideran un objeto de python, esto significa que tienen ciertos **atributos** y **funciones**. \n",
    "\n",
    "- Atributos: características propias de la variable:\n",
    "    - Cantidad de entradas.\n",
    "    - Peso en memoria.\n",
    "- Funciones: operaciones que puede hacer un objeto como tal:\n",
    "    - index: localiza la primera ocurrencia de un objeto.\n",
    "    - append: agregar un elemento al final.\n",
    "    - extend: agregar un elemento al final extendiendo la lista, en este caso se incrementa la entrada o la lista, no se pega el elemento como una entrada extra.\n",
    "    - insert: agrega un elemento en un punto fijo.\n",
    "    - pop: remueve un elemento en un punto fijo.\n",
    "    - remove: remuve la primera ocurrencua de un elemento de la lista.\n",
    "    - reverse: Invierte el orden de la lista [::-1]."
   ]
  },
  {
   "cell_type": "code",
   "execution_count": 71,
   "metadata": {
    "collapsed": true
   },
   "outputs": [],
   "source": [
    "#Pega un elemento tipo lista al final\n",
    "L4.append([2,9,8])\n",
    "#Extiende el final \n",
    "L4.extend([3,4,5])\n",
    "#Extiende la ultima lista de la lista  \n",
    "L4[-4].append(4)"
   ]
  },
  {
   "cell_type": "code",
   "execution_count": 72,
   "metadata": {},
   "outputs": [
    {
     "data": {
      "text/plain": [
       "[[1, 2, 3],\n",
       " [1, 2, 3, 4],\n",
       " [1, 2.0, 4.5, 5, 'hola'],\n",
       " [1, 3, [1, 2, 3, 4], 4.0, [1, 2.0, 4.5, 5, 'hola'], 'hola'],\n",
       " [2, 9, 8, 4],\n",
       " 3,\n",
       " 4,\n",
       " 5]"
      ]
     },
     "execution_count": 72,
     "metadata": {},
     "output_type": "execute_result"
    }
   ],
   "source": [
    "L4"
   ]
  },
  {
   "cell_type": "code",
   "execution_count": 74,
   "metadata": {},
   "outputs": [
    {
     "data": {
      "text/plain": [
       "5"
      ]
     },
     "execution_count": 74,
     "metadata": {},
     "output_type": "execute_result"
    }
   ],
   "source": [
    "#Busca un numero entre las entradas\n",
    "L4.index(3)"
   ]
  },
  {
   "cell_type": "code",
   "execution_count": 84,
   "metadata": {
    "collapsed": true
   },
   "outputs": [],
   "source": [
    "#Extension de listas mediante el comando +\n",
    "L1 = [1,3,5]\n",
    "L2 = [2,4,6]\n",
    "L =  L1 + L2"
   ]
  },
  {
   "cell_type": "code",
   "execution_count": 85,
   "metadata": {},
   "outputs": [
    {
     "name": "stdout",
     "output_type": "stream",
     "text": [
      "[1, 2, 3, 4, 5, 6]\n"
     ]
    }
   ],
   "source": [
    "#Organizar la lista\n",
    "L.sort()\n",
    "print L"
   ]
  },
  {
   "cell_type": "markdown",
   "metadata": {},
   "source": [
    "Los diccionarios tienen una forma de funcionar algo diferente, en la cual los llamados se realizan a partir de **keys** o nombres, es como tener variables dentro de una variable.  Estos **keys** pueden apuntar a cualquier cosa:"
   ]
  },
  {
   "cell_type": "code",
   "execution_count": 110,
   "metadata": {},
   "outputs": [
    {
     "name": "stdout",
     "output_type": "stream",
     "text": [
      "{'1': [3, 4, 5]}\n"
     ]
    }
   ],
   "source": [
    "Dic = {'1': [3,4,5]}\n",
    "print Dic"
   ]
  },
  {
   "cell_type": "code",
   "execution_count": 111,
   "metadata": {},
   "outputs": [
    {
     "name": "stdout",
     "output_type": "stream",
     "text": [
      "{'1': [3, 4, 5], '2': [4, 3, 2]}\n"
     ]
    }
   ],
   "source": [
    "# Agrega una nueva entrada\n",
    "Dic.update({'2':[4,3,2]})\n",
    "print Dic"
   ]
  },
  {
   "cell_type": "code",
   "execution_count": 112,
   "metadata": {},
   "outputs": [
    {
     "name": "stdout",
     "output_type": "stream",
     "text": [
      "[3, 4, 5]\n",
      "[3, 4, 5, 8]\n"
     ]
    }
   ],
   "source": [
    "# Llamado a una entrada\n",
    "print Dic['1']\n",
    "#Edicion de una entrada\n",
    "Dic['1'].append(8)\n",
    "print Dic['1']"
   ]
  },
  {
   "cell_type": "markdown",
   "metadata": {},
   "source": [
    "Al igual que las listas, los diccionarios también son un objeto (**dict**), el cual tiene atributos y funciones, algunos de los cuales difieren de los que presentan las Listas.\n",
    "\n",
    "- **Atributos**:\n",
    "    - Nombres de las entradas.\n",
    "    - Items contenidos en las entradas.\n",
    "    - Tamaño.\n",
    "- **Funciones**:\n",
    "    - Dic.keys(): obtiene los nombres de las entradas.\n",
    "    - Dic.iteritems(): Itera nombres y elementos de las entradas.\n",
    "    - Dic.items(): Muestra los valores de las entradas.\n",
    "    - Dic.get(key): Obtiene la entrada asociada a un key.\n",
    "    - Dic.has_key(key): True si key esta en Dic.\n",
    "    - Dic.update(D2): Nueva entrada al diccionario con D2 = {key: value}\n",
    "    - Dic.pop(key): Elimina la entrada correspondiente a key.\n",
    "    \n",
    "El manejo de una variable mediante **key** hace que sea más organizado y permita hacer preguntas de mayor complejidad sobre el mismo."
   ]
  },
  {
   "cell_type": "code",
   "execution_count": 113,
   "metadata": {},
   "outputs": [
    {
     "name": "stdout",
     "output_type": "stream",
     "text": [
      "('1', [3, 4, 5, 8])\n",
      "('2', [4, 3, 2])\n"
     ]
    }
   ],
   "source": [
    "for i in Dic.iteritems():\n",
    "    print i"
   ]
  },
  {
   "cell_type": "code",
   "execution_count": 114,
   "metadata": {},
   "outputs": [
    {
     "name": "stdout",
     "output_type": "stream",
     "text": [
      "{'2': [4, 3, 2]}\n"
     ]
    }
   ],
   "source": [
    "Dic.pop('1')\n",
    "print Dic"
   ]
  },
  {
   "cell_type": "markdown",
   "metadata": {},
   "source": [
    "**Ejercicio**: Logre hacer un diccionario que contenga un diccionario dentro de este como el que se presenta a continuación:\n"
   ]
  },
  {
   "cell_type": "code",
   "execution_count": 117,
   "metadata": {},
   "outputs": [
    {
     "data": {
      "text/plain": [
       "{'1': [3, 4, 5], 'd1': {'e1': [2, 3, 4], 'e2': [5, 6, 7]}}"
      ]
     },
     "execution_count": 117,
     "metadata": {},
     "output_type": "execute_result"
    }
   ],
   "source": [
    "Dic"
   ]
  },
  {
   "cell_type": "markdown",
   "metadata": {
    "collapsed": true
   },
   "source": [
    "___\n",
    "## 3. Comandos basicos \n",
    "\n",
    "En conjunto con las variables, permiten construir scripts de mayor complejidad en python, estos comandos son:\n",
    "\n",
    "\n",
    "- **if**: condicional, incluye los comandos **elif** y **else**\n",
    "```python\n",
    "if i > 3:\n",
    "    print i\n",
    "elif:\n",
    "    print 'i es menor a 3'\n",
    "```\n",
    "- **for**: loop de iteración en una **variable**, en python se puede hacer iteración simultánea mediante **zip**.\n",
    "```python\n",
    "for i in a:\n",
    "    print i\n",
    "```\n",
    "- **while**: loop condicional (como un **if** y un **for** juntos).\n",
    "```python\n",
    "i = 0\n",
    "while i < 10:\n",
    "    print i\n",
    "    i += 1\n",
    "```\n",
    "- **try**: manejo de errores (si, python permite programar a partir de *errores* controlados).\n",
    "```python\n",
    "try: \n",
    "    i = a + b\n",
    "except:\n",
    "    pass\n",
    "```\n",
    "\n",
    "\n",
    "Los condicionales pueden estar compuestos de 1 o más comparaciones, finalmente se ejecutará si el resultado es verdadero (**True**).  Un ejemplo de esto se ve a continuación:"
   ]
  },
  {
   "cell_type": "code",
   "execution_count": 121,
   "metadata": {},
   "outputs": [
    {
     "name": "stdout",
     "output_type": "stream",
     "text": [
      "Pos, val\n",
      "0 2\n",
      "2 4\n",
      "3 7\n"
     ]
    }
   ],
   "source": [
    "#Definicion de variables \n",
    "a = [2,10,4,7,2]\n",
    "b = range(5)\n",
    "#Iteracion sobre variables\n",
    "print 'Pos, val'\n",
    "cont = 0\n",
    "for i in a:\n",
    "    if i > b[cont] and i < 10:\n",
    "        print cont, i\n",
    "    cont += 1"
   ]
  },
  {
   "cell_type": "markdown",
   "metadata": {},
   "source": [
    "El ejemplo anterior se puede simplificar con el uso de **zip**, con el cual python sabe que debe iterar sobre 2 o más variables y finaliza con el número de entradas de la variable de menor tamaño."
   ]
  },
  {
   "cell_type": "code",
   "execution_count": 122,
   "metadata": {},
   "outputs": [
    {
     "name": "stdout",
     "output_type": "stream",
     "text": [
      "2\n",
      "4\n",
      "7\n"
     ]
    }
   ],
   "source": [
    "for i,j in zip(a,b):\n",
    "    if i>j and i<10:\n",
    "        print i"
   ]
  },
  {
   "cell_type": "markdown",
   "metadata": {},
   "source": [
    "**Ejemplo**: A continuación se presenta un ejercicio en donde se usan las variables descritas y los comandos para lograr la construcción de un diccionario:"
   ]
  },
  {
   "cell_type": "code",
   "execution_count": 123,
   "metadata": {
    "collapsed": true
   },
   "outputs": [],
   "source": [
    "#Paquete de arrays y de matematicas basico \n",
    "import numpy as np "
   ]
  },
  {
   "cell_type": "code",
   "execution_count": 133,
   "metadata": {
    "collapsed": true
   },
   "outputs": [],
   "source": [
    "#Parametros del codigo \n",
    "N = 10 #Numero de entradas en el diccionario\n",
    "M = 5 # Tamano de cada entrada del diccionario\n",
    "#Variables base\n",
    "Dic = {}\n",
    "#Iteracion para la contruccion, se usa el comando range, el cual hace un vector de N elementos, desde 0 hasta N-1\n",
    "for i in range(N):\n",
    "    #Genera M numeros aleatorios uniformes entre 0 y 10, los convierte a una lista\n",
    "    Lista = np.random.uniform(0,10, M).tolist()\n",
    "    #Actualiza el diccionario con la entrada de la lista, el key es el numero de la iteracion + 1\n",
    "    Dic.update({str(i+1): Lista})"
   ]
  },
  {
   "cell_type": "markdown",
   "metadata": {},
   "source": [
    "**Ejercicio**: Partiendo del codigo anterior haga lo siguiente:\n",
    "\n",
    "1. introduzca dos parametros adicionales para que los numeros oscilen en un rango definido por usted.\n",
    "2. Haga que el **key** del diccionario no sea únicamente un número si no un alfanumérico ej: 'pos1'.\n",
    "3. Logre que las entradas de las listas sean entradas enteras y no números flotantes."
   ]
  },
  {
   "cell_type": "markdown",
   "metadata": {},
   "source": [
    "## 4. Definición de funciones.\n",
    "\n",
    "En python casi todo es un **objeto**, algunos con una mayor complejidad que otros, esto se traduce en una mayor cantidad de **atributos** y **funciones**, y limitaciones asociadas a las mismas.  Sin embargo, las funciones pueden estar definidas por fuera de un objeto, y pueden estar asociadas a un **modulo** o bien ser definidas como parte del codigo. Su mayor utilidad se basa en la simplificación del código y el reciclaje del mismo,  algunas características de las funciones son:\n",
    "\n",
    "- Pueden pertenecer a:\n",
    "    - objeto: \n",
    "    ```python\n",
    "        Obj = list([3,1,2])\n",
    "        Obj.funcion(arg1, arg2, argOpcional1, argOpcion2, kwargs**)\n",
    "    ```\n",
    "    - modulo: \n",
    "    ```python\n",
    "        import modulo as modo\n",
    "        a = modo.funcion(args,..)\n",
    "        a = modo.obj.funcion(args,...)\n",
    "    ```\n",
    "    - definidas en el codigo:\n",
    "    ```python\n",
    "        #Definicion\n",
    "        def f(a):\n",
    "            print a + 2\n",
    "        #Invocacion\n",
    "        f(3)\n",
    "    ```\n",
    "- Pueden tener o no argumentos de entrada y no necesariamente tienen un retorno (**return**).\n",
    "    - **Args Entrada**: Pueden ser obligatorios, opcionales y kwargs:\n",
    "        - Obligatorios: Se definen en la construcción de la función y no tienen un valor por defecto. El orden en que son definidos es el orden en que deben ingresar a la función:\n",
    "            ```python\n",
    "                def f(a,b,c):\n",
    "                    print a + b/c\n",
    "            ```\n",
    "        - Opcionales: también están en la construcción, pero tienen un valor por defecto, el cual cambia cuando el usuario durante la invocación lo asigna, si se respeta el orden de ingreso python los identifica, de lo contrario, estos pueden ser cambiados usando su nombre.\n",
    "            ```python\n",
    "               #Definicion\n",
    "               def f(a, b = 2, c = None):\n",
    "                    if c is not None:\n",
    "                        return a + b/c\n",
    "                    else:\n",
    "                        return a + b\n",
    "               #Uso en orden\n",
    "               f(3,4)\n",
    "               #Uso con nombres\n",
    "               f(3, b = 4.0, c = 2.)\n",
    "            ```\n",
    "        - kwargs: Argumentos opcionales que no se encuentran definidos de forma explicita en la función y son \"parseados\" por la función en su interior. Es común su uso en funciones de plot en donde existen multiples características que pueden ser cambiadas y no se desea llenar de argumentos la funcion. También pueden ser pasadfos meidante un diccionario!!!\n",
    "            ```python\n",
    "                def f(a,b = 2.,c = None, **kwargs):\n",
    "                    #Parseo\n",
    "                    d = kwargs.get('valextra', None)\n",
    "                    #Ejecuta\n",
    "                    if c is not None and d is not None:\n",
    "                        return a/d + b/c\n",
    "            ```\n",
    "    - **Args Salida**: Estos pueden o no estar presentes en una función, y se asignan mediante el comando **return** que puede estar o no en la función. Además el retorno puede ser cualquier cosa o bien varias cosas.  Otra manera en que opera una función es editando variables globales:\n",
    "       - Con el comando **retorno**: Este es el caso en que el resultado se aloja en una variable y la función termina de forma inmediata. Pueden existir multiples retornos en una función:\n",
    "           ```python\n",
    "               #Definicion\n",
    "               def f(a, b = 2, c = None):\n",
    "                    if c is not None:\n",
    "                        return a, b/c\n",
    "                    else:\n",
    "                        return a\n",
    "            ```\n",
    "       - Variable **global**: En el codigo existen variables que se definen en la ejecución y que pueden ser cambiadas.\n",
    "           ```python\n",
    "               VarGlobal = 10\n",
    "               def f(a):\n",
    "                   VarGlobal = VarGlobal + a\n",
    "            ```"
   ]
  },
  {
   "cell_type": "markdown",
   "metadata": {},
   "source": [
    "**Ejercicio**: Convierta el siguiente codigo en una función en la cual se usen argumentos opcionales y algunos kwargs. \n",
    "\n",
    "```python\n",
    "#Parametros del codigo \n",
    "N = 10 #Numero de entradas en el diccionario\n",
    "M = 5 # Tamano de cada entrada del diccionario\n",
    "#Variables base\n",
    "Dic = {}\n",
    "#Iteracion para la contruccion, se usa el comando range, el cual hace un vector de N elementos, desde 0 hasta N-1\n",
    "for i in range(N):\n",
    "    #Genera M numeros aleatorios uniformes entre 0 y 10, los convierte a una lista\n",
    "    Lista = np.random.uniform(0,10, M).tolist()\n",
    "    #Actualiza el diccionario con la entrada de la lista, el key es el numero de la iteracion + 1\n",
    "    Dic.update({str(i+1): Lista})\n",
    "```"
   ]
  },
  {
   "cell_type": "code",
   "execution_count": null,
   "metadata": {
    "collapsed": true
   },
   "outputs": [],
   "source": []
  }
 ],
 "metadata": {
  "kernelspec": {
   "display_name": "Python 2",
   "language": "python",
   "name": "python2"
  },
  "language_info": {
   "codemirror_mode": {
    "name": "ipython",
    "version": 2
   },
   "file_extension": ".py",
   "mimetype": "text/x-python",
   "name": "python",
   "nbconvert_exporter": "python",
   "pygments_lexer": "ipython2",
   "version": "2.7.6"
  }
 },
 "nbformat": 4,
 "nbformat_minor": 1
}
