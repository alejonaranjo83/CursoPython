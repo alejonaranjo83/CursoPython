{
 "cells": [
  {
   "cell_type": "markdown",
   "metadata": {},
   "source": [
    "# 1. Numpy \n",
    "\n",
    "Características, tomadas de la página: [Numpy](http://www.numpy.org) \n",
    "\n",
    "- a powerful N-dimensional array object\n",
    "- sophisticated (broadcasting) functions\n",
    "- tools for integrating C/C++ and Fortran code\n",
    "- useful linear algebra, Fourier transform, and random number capabilities\n",
    "\n",
    "**Numpy** opera principalmente sobre elementos conocidos como **arrays**, los cuales tienen características tales como:\n",
    "\n",
    "- Tipo de variable: int, float, complex, etc.\n",
    "- Dimensiones: Cantidad de dimensiones (filas, columnas, profundidad, etc.).\n",
    "- Forma o Shape: El tamaño de cada una de las dimensiones (cantidad de filas, cantidad de columnas, etc.)\n",
    "- Tamaño o Size: La cantidad total de elementos que lo conforman.\n",
    "\n",
    "Se va a considerar una de las principales herramientas para el análisis numeríco en python debido a las siguientes cartacteristicas:\n",
    "\n",
    "- Interactua de forma natural con paquetes como **matplotlib, pandas, scipy **.\n",
    "- Permite compilar código de **fortran** para que este luego sea operado desde python de forma natural.\n",
    "- Permite hacer lo mismo con **C**.\n",
    "- Maneja datos nulos o **nan**, y permite enmascarar datos.\n",
    "- Interactúa de forma natural con las **Listas** de python.\n",
    "- *Se parece a matlab*.\n",
    "\n",
    "---\n",
    "\n",
    "## Construcción\n",
    "\n",
    "A continuación se presentan diferentes ejemplos de como se puede construir en numpy un elemento tipo **array**, esta construcción se puede realizar de diferentes maneras:"
   ]
  },
  {
   "cell_type": "code",
   "execution_count": 1,
   "metadata": {
    "collapsed": true
   },
   "outputs": [],
   "source": [
    "%matplotlib inline\n",
    "import pylab as pl\n",
    "# forma tipica de importar numpy \n",
    "import numpy as np\n",
    "\n",
    "#Construccion desde lista\n",
    "Lista = [1,2,3,4]\n",
    "Array1 = np.array(Lista)\n",
    "\n",
    "#Construccion explicita \n",
    "Array = np.array([1,2,3,4])\n",
    "\n",
    "#Construccion de multiples filas y columnas mediante lista \n",
    "Lista = [[1,2,3],\n",
    "    [4,5,6],\n",
    "    [7,8,9]]\n",
    "Array = np.array(Lista)\n",
    "\n",
    "#Constructores por defecto\n",
    "Array = np.zeros(10) #Crea un vector con una entrada y 10 ceros.\n",
    "Array2 = np.zeros((5,3)) #Crea un vector con 5 filas, 3 columnas de ceros.\n",
    "Array3 = np.ones((6,2,3),dtype='float') # Vector de 3 dimensiones con 6 en la primera, 2 en la segunda y 3 en la tercera\n",
    "\n",
    "#Constructores aleatorios\n",
    "ArrayRandom = np.random.uniform(1,5,10)"
   ]
  },
  {
   "cell_type": "code",
   "execution_count": 2,
   "metadata": {},
   "outputs": [
    {
     "data": {
      "text/plain": [
       "numpy.ndarray"
      ]
     },
     "execution_count": 2,
     "metadata": {},
     "output_type": "execute_result"
    }
   ],
   "source": [
    "type(Array1)"
   ]
  },
  {
   "cell_type": "code",
   "execution_count": 3,
   "metadata": {},
   "outputs": [
    {
     "data": {
      "text/plain": [
       "array([ 2.80828343,  1.08635835,  3.56047904,  3.78160337,  2.88296664,\n",
       "        1.99192689,  3.66881866,  3.97522657,  4.06166613,  2.03496077])"
      ]
     },
     "execution_count": 3,
     "metadata": {},
     "output_type": "execute_result"
    }
   ],
   "source": [
    "ArrayRandom"
   ]
  },
  {
   "cell_type": "markdown",
   "metadata": {},
   "source": [
    "## Ejemplo 2: Atributos\n",
    "\n",
    "En un **array** es posible consultar diferentes tipos de atributos veamos:"
   ]
  },
  {
   "cell_type": "code",
   "execution_count": 4,
   "metadata": {},
   "outputs": [
    {
     "name": "stdout",
     "output_type": "stream",
     "text": [
      "10\n",
      "10\n"
     ]
    }
   ],
   "source": [
    "# Cantidad de elementos \n",
    "print Array.size\n",
    "print ArrayRandom.size"
   ]
  },
  {
   "cell_type": "code",
   "execution_count": 5,
   "metadata": {},
   "outputs": [
    {
     "name": "stdout",
     "output_type": "stream",
     "text": [
      "3\n",
      "1\n"
     ]
    }
   ],
   "source": [
    "# Cantidad de dimensiones\n",
    "print Array3.ndim\n",
    "print ArrayRandom.ndim"
   ]
  },
  {
   "cell_type": "code",
   "execution_count": 7,
   "metadata": {},
   "outputs": [
    {
     "name": "stdout",
     "output_type": "stream",
     "text": [
      "(10,)\n",
      "(3, 4)\n"
     ]
    }
   ],
   "source": [
    "#Forma\n",
    "A = np.zeros((3,4))\n",
    "print ArrayRandom.shape\n",
    "print A.shape"
   ]
  },
  {
   "cell_type": "code",
   "execution_count": 8,
   "metadata": {},
   "outputs": [
    {
     "name": "stdout",
     "output_type": "stream",
     "text": [
      "(6, 2, 3)\n",
      "(10,)\n",
      "[0, 1, 2]\n"
     ]
    }
   ],
   "source": [
    "# Cantidad de elementos en cada dimension\n",
    "print Array3.shape\n",
    "print ArrayRandom.shape\n",
    "print range(Array3.shape[2])"
   ]
  },
  {
   "cell_type": "code",
   "execution_count": 10,
   "metadata": {},
   "outputs": [
    {
     "name": "stdout",
     "output_type": "stream",
     "text": [
      "float64\n",
      "[ 2.80828343  1.08635835  3.56047904  3.78160337  2.88296664  1.99192689\n",
      "  3.66881866  3.97522657  4.06166613  2.03496077]\n",
      "[ 2.  1.  3.  3.  2.  1.  3.  3.  4.  2.]\n",
      "[2 1 3 3 2 1 3 3 4 2]\n"
     ]
    }
   ],
   "source": [
    "# Tipo de variable almacenada en cada elemento\n",
    "print Array3.dtype\n",
    "#Cambio de tipo de variable\n",
    "ArrayR = ArrayRandom.astype(int)\n",
    "print ArrayRandom\n",
    "#Cambio mediante la funcion fix\n",
    "print np.fix(ArrayRandom)\n",
    "print ArrayR"
   ]
  },
  {
   "cell_type": "markdown",
   "metadata": {},
   "source": [
    "## Ejercicio 1:\n",
    "\n",
    "Cree un elemento tipo array que contenga **N** elementos, luego haga que **i** itere desde **0** hasta **N-1**, dentro de la iteración puede hacer lo que quiera (imprimir algo, hacer una operación, etc), haga de cuenta que **N** es un valor que usted no necesariamente conoce y puede variar. "
   ]
  },
  {
   "cell_type": "code",
   "execution_count": null,
   "metadata": {
    "collapsed": true
   },
   "outputs": [],
   "source": []
  },
  {
   "cell_type": "markdown",
   "metadata": {},
   "source": [
    "## Ejercicio 2:\n",
    "\n",
    "Cree una matriz con numeros aleatorios uniformes que tenga dimensiones: (**N**,20,10).  Genere un vector de una sola dimensión que contenga el promedio de los valores contenidos en las ultimas dos dimensiones (el tamaño del nuevo vector debe ser **N**). El promedio se puede obtener mediante **np.mean** o mediante **array.mean**, array es el elemento definido como tal.\n",
    "\n",
    "- Haga el plot del histograma "
   ]
  },
  {
   "cell_type": "code",
   "execution_count": null,
   "metadata": {
    "collapsed": true
   },
   "outputs": [],
   "source": []
  },
  {
   "cell_type": "markdown",
   "metadata": {},
   "source": [
    "## Funciones básicas\n",
    "\n",
    "Como en python todo de una u otra forma es un objeto, un **array** es un objeto de numpy, y por lo tanto tiene atributos como los que hemos visto, pero también tiene funciones.\n",
    "\n",
    "- Atributos: Propiedades propias de un objeto, como su tamaño, cantidad de entradas, etc.  Se llaman sin los () al final, ej: *Array.ndim* o *Array.size*.\n",
    "- Funciones: Acciones que puede realizar un objeto o que se pueden realizar con el mismo, como sumar elementos, sacar promedio, etc. Se llaman con los () al final, en algunos casos cuando se llaman desde un objeto los paréntesis () van vacios, ya que el objeto mismo es el atributo necesario para la función, ej: Array.sum(), array.mean(), array.std(), etc."
   ]
  },
  {
   "cell_type": "code",
   "execution_count": 11,
   "metadata": {},
   "outputs": [
    {
     "name": "stdout",
     "output_type": "stream",
     "text": [
      "-0.0131270241324\n",
      "1.0040059822\n",
      "-131.270241324\n"
     ]
    }
   ],
   "source": [
    "# Ejemplo de suma de elementos de un ARray:\n",
    "Array = np.random.normal(0,1,10000)\n",
    "print Array.mean() # calcula la media\n",
    "print Array.std() # La desviacion\n",
    "print Array.sum() #La suma de los valoes"
   ]
  },
  {
   "cell_type": "code",
   "execution_count": 15,
   "metadata": {
    "collapsed": true
   },
   "outputs": [],
   "source": [
    "# Ejemplo enmascarando los datos, de esta forma se realizan los calculos sin datos NaN\n",
    "A = np.random.normal(0,1,(5,5))\n",
    "A[0,0:3] = -9999\n",
    "A[A == -9999] = np.nan\n",
    "Aenmascarada = np.ma.array(A,mask=A == -9999)"
   ]
  },
  {
   "cell_type": "code",
   "execution_count": 14,
   "metadata": {},
   "outputs": [
    {
     "name": "stdout",
     "output_type": "stream",
     "text": [
      "3.95811746166\n",
      "7843\n",
      "-3.91917000998\n",
      "3355\n"
     ]
    }
   ],
   "source": [
    "# Maximos, mínimos y pocisiones:\n",
    "print Array.max()\n",
    "print Array.argmax()\n",
    "print Array.min()\n",
    "print Array.argmin()\n"
   ]
  },
  {
   "cell_type": "markdown",
   "metadata": {},
   "source": [
    "___\n",
    "##  Redimensionamiento\n",
    "\n",
    "A veces se requiere que un vector cambie su forma, para esto se usan diferentes funciones que permiten modificar un *array*:\n",
    "\n",
    "- Re-dimensionar.\n",
    "- Rotar.\n",
    "- Trasponer."
   ]
  },
  {
   "cell_type": "code",
   "execution_count": 18,
   "metadata": {},
   "outputs": [
    {
     "name": "stdout",
     "output_type": "stream",
     "text": [
      "[[1 2 3 4]\n",
      " [5 6 7 8]]\n"
     ]
    }
   ],
   "source": [
    "v = np.array([[1,2,3,4],[5,6,7,8]])\n",
    "print v"
   ]
  },
  {
   "cell_type": "code",
   "execution_count": 19,
   "metadata": {},
   "outputs": [
    {
     "name": "stdout",
     "output_type": "stream",
     "text": [
      "[[1 5]\n",
      " [2 6]\n",
      " [3 7]\n",
      " [4 8]]\n"
     ]
    }
   ],
   "source": [
    "#Trasponer\n",
    "print v.T"
   ]
  },
  {
   "cell_type": "code",
   "execution_count": 24,
   "metadata": {},
   "outputs": [
    {
     "name": "stdout",
     "output_type": "stream",
     "text": [
      "[1 2 3 4 5 6 7 8]\n",
      "[[1 2]\n",
      " [3 4]\n",
      " [5 6]\n",
      " [7 8]]\n"
     ]
    }
   ],
   "source": [
    "#Cambiar de forma \"reshape\"\n",
    "b = np.reshape(v,8)\n",
    "print b\n",
    "#Cuando se re-dimensiona lo que se hace es que se le asigna una nueva cantidad N de dimensiones. \n",
    "#La multiplicacion de estas dimensiones debe dar como resultado el size del array\n",
    "print np.reshape(b, (4,2))"
   ]
  },
  {
   "cell_type": "code",
   "execution_count": 12,
   "metadata": {},
   "outputs": [
    {
     "name": "stdout",
     "output_type": "stream",
     "text": [
      "[6 1 2 3 4 5]\n",
      "[4 5 6 1 2 3]\n",
      "[[4 5 6]\n",
      " [1 2 3]]\n"
     ]
    }
   ],
   "source": [
    "# Movimiento circular \n",
    "A = np.array([1,2,3,4,5,6])\n",
    "B = np.roll(A,1)\n",
    "print B\n",
    "B = np.roll(A,3)\n",
    "print B\n",
    "B = np.reshape(A,(2,3))\n",
    "print np.roll(B,1,axis=0)"
   ]
  },
  {
   "cell_type": "markdown",
   "metadata": {},
   "source": [
    "## Ejercicio 4:\n",
    "\n",
    "Teniendo un array de numeros aleatorios con dimensiones (N) haga un script que indique los diferentes valores que puede tomar M para obtener un array redimensionado que sea (N/M,M). \n",
    "\n",
    "Trate de hacerlo sin **try**."
   ]
  },
  {
   "cell_type": "markdown",
   "metadata": {},
   "source": [
    "## Ejercicio 5:\n",
    "![algo](http://www.lawebdelprogramador.com/usr/202000/202636/5766666c2691d-python-problema-matrices.png)"
   ]
  },
  {
   "cell_type": "code",
   "execution_count": null,
   "metadata": {
    "collapsed": true
   },
   "outputs": [],
   "source": []
  },
  {
   "cell_type": "markdown",
   "metadata": {},
   "source": [
    "# Datetime\n",
    "\n",
    "Este es un modulo básico de **python** usado para el manejo de fechas y de horas.  Puede ser utilizado en conjunto con las **Listas** y con **numpy**.  Los que han trabajado con series de tiempo saben que estas presentan algunos problemas:\n",
    "\n",
    "- Identificar bisiestos. \n",
    "- Saberse de memoría que meses son de 30 y cuales de 31 (esto no es tan importante).\n",
    "- Agregar una variable temporalmente.\n",
    "- Hacer preguntas temporales.\n",
    "\n",
    "**datetime** es de utilidad cuando se tratan de resolver este tipo de problemas, sin embargo, es un paso más para llegar a **Pandas**."
   ]
  },
  {
   "cell_type": "code",
   "execution_count": 25,
   "metadata": {
    "collapsed": true
   },
   "outputs": [],
   "source": [
    "import datetime as dt "
   ]
  },
  {
   "cell_type": "code",
   "execution_count": 26,
   "metadata": {},
   "outputs": [
    {
     "data": {
      "text/plain": [
       "datetime.datetime(2018, 3, 12, 11, 57, 3, 918356)"
      ]
     },
     "execution_count": 26,
     "metadata": {},
     "output_type": "execute_result"
    }
   ],
   "source": [
    "# Fecha actual \n",
    "dt.datetime.now()"
   ]
  },
  {
   "cell_type": "code",
   "execution_count": 28,
   "metadata": {
    "collapsed": true
   },
   "outputs": [],
   "source": [
    "#Definir una fecha cualquiera:\n",
    "#Orden: ano, mes, dia, hora, min\n",
    "Fecha = dt.datetime(2014, 5, 3, 0, 30)"
   ]
  },
  {
   "cell_type": "code",
   "execution_count": 33,
   "metadata": {},
   "outputs": [
    {
     "name": "stdout",
     "output_type": "stream",
     "text": [
      "1409 days, 11:30:17.773833\n",
      "1409\n"
     ]
    }
   ],
   "source": [
    "#Delta de fecha\n",
    "DeltaFecha = dt.datetime.now() - Fecha\n",
    "print DeltaFecha\n",
    "#Imprimir solo los dias \n",
    "print DeltaFecha.days"
   ]
  },
  {
   "cell_type": "markdown",
   "metadata": {},
   "source": [
    "### Ejercicio 1: \n",
    "\n",
    "Escriba una función que reciba los siguientes parametros de entrada:\n",
    "\n",
    "- Año de inicio.\n",
    "- Cantidad de dias.\n",
    "\n",
    "Y que como resultado entregue una **Lista** que contenga todas las fechas diarias desde el año inicio hasta la fecha final dada la cantidad de días ingresada.  "
   ]
  },
  {
   "cell_type": "code",
   "execution_count": null,
   "metadata": {
    "collapsed": true
   },
   "outputs": [],
   "source": []
  },
  {
   "cell_type": "markdown",
   "metadata": {},
   "source": [
    "Como pueden ver las fechas de **datetime** no son un caracter, pero pueden serlo, y también los caracteres se pueden convertir en **datetime**, para eso usamos dos funciones:\n",
    "\n",
    "- Convertir caracter a datetime: dt.datetime.strptime(char, format)\n",
    "- Convertir datetime a caracter: dt.datetime.strftime("
   ]
  },
  {
   "cell_type": "code",
   "execution_count": 52,
   "metadata": {},
   "outputs": [
    {
     "data": {
      "text/plain": [
       "datetime.datetime(2000, 5, 25, 10, 25)"
      ]
     },
     "execution_count": 52,
     "metadata": {},
     "output_type": "execute_result"
    }
   ],
   "source": [
    "dt.datetime.strptime('2000-05-25 10:25','%Y-%m-%d %H:%M')"
   ]
  },
  {
   "cell_type": "code",
   "execution_count": 60,
   "metadata": {},
   "outputs": [
    {
     "data": {
      "text/plain": [
       "'Es el ano 2018 en el mes de March'"
      ]
     },
     "execution_count": 60,
     "metadata": {},
     "output_type": "execute_result"
    }
   ],
   "source": [
    "dt.datetime.strftime(dt.datetime.now(), u'Es el ano %Y en el mes de %B')"
   ]
  },
  {
   "cell_type": "markdown",
   "metadata": {},
   "source": [
    "### Lectura de un archivo \n",
    "\n",
    "Al igual que en todos los lenguajes se puede hacer lectura tanto de **binarios** como de texto **plano**.  El primero sólo es legible por la máquina, pero tiende a costar menos tiempo y espacio.  El segundo es legible por el ser humano a cambio de más espacio y tiempo de lectura.  Algunos formatos **planos comunes** son:\n",
    "\n",
    "- **txt**: archivos planos de texto codificados normalmente en UTF-8.\n",
    "- **json**: archivos planos usados para la web.\n",
    "- **xml**: similares a los json.\n",
    "- **csv**: Archivo separado por comas, usualmente se emplea en tablas.\n",
    "\n",
    "Por otro lado están los archivos **binarios**, en donde resaltan algunos formatos \"famosos\":\n",
    "\n",
    "- **hdf**: este no es de python, pero hay librerías que permiten usarlo.\n",
    "- **netcdf**: formato de la NCAR utilizado en meteorología.\n",
    "- **.bin**: cualquier binario no necesariamente sabemos el formato.\n",
    "- **pickle**: formato binario de python.\n",
    "- **msgpack**: otro binario de python.\n",
    "\n",
    "Cada archivo tiene su forma de ser leido, sin embargo, en python hay una forma **genérica** mediante la cual se puede acceder a los archivos:\n",
    "\n",
    "```python\n",
    "f = open(ruta, tipo_lectura)\n",
    "Linea = f.readline()\n",
    "Lineas = f.readlines()\n",
    "f.close()\n",
    "```\n",
    "En el caso anterior **f** es la variable mediante la cual se maneja el archivo, **ruta** es la ruta entre comillas hasta el mismo, **tipo_lectura** es si voy a leer (**r**) o a escribir (**w**)."
   ]
  },
  {
   "cell_type": "code",
   "execution_count": 34,
   "metadata": {
    "collapsed": true
   },
   "outputs": [],
   "source": [
    "f = open('P_26160090.csv','r')\n",
    "Lista = f.readlines()\n",
    "f.close()"
   ]
  },
  {
   "cell_type": "markdown",
   "metadata": {},
   "source": [
    "Con **f.close** se cierra el acceso al archivo y el riesgo de dañarlo.  En la Lista queda almacenada toda la información del archivo, pero tal cual estaba almacenada.  Veamos:"
   ]
  },
  {
   "cell_type": "code",
   "execution_count": 39,
   "metadata": {},
   "outputs": [
    {
     "data": {
      "text/plain": [
       "['1970-01-03 00:00:00,NaN\\n',\n",
       " '1970-01-04 00:00:00,NaN\\n',\n",
       " '1970-01-05 00:00:00,NaN\\n',\n",
       " '1970-01-06 00:00:00,NaN\\n',\n",
       " '1970-01-07 00:00:00,NaN\\n',\n",
       " '1970-01-08 00:00:00,NaN\\n',\n",
       " '1970-01-09 00:00:00,NaN\\n']"
      ]
     },
     "execution_count": 39,
     "metadata": {},
     "output_type": "execute_result"
    }
   ],
   "source": [
    "Lista[3:10]"
   ]
  },
  {
   "cell_type": "markdown",
   "metadata": {},
   "source": [
    "Cada entrada se encuentra como un **caracter** en donde no se distinguen las fechas y los valores. Sin embargo, esto puede ser de utilidad si aprovechamos la comilla usando la función **Lista.split()**"
   ]
  },
  {
   "cell_type": "code",
   "execution_count": 41,
   "metadata": {},
   "outputs": [
    {
     "data": {
      "text/plain": [
       "['1970-01-03 00:00:00', 'NaN\\n']"
      ]
     },
     "execution_count": 41,
     "metadata": {},
     "output_type": "execute_result"
    }
   ],
   "source": [
    "Lista[3].split(',') #Le indicamos que use la coma para separar los elementos del caracter"
   ]
  },
  {
   "cell_type": "markdown",
   "metadata": {},
   "source": [
    "### Ejercicio:\n",
    "\n",
    "Con este archivo ya leido, haga un algoritmo que pueda leer la serie de lluvia y almacenarla en una variable **numpy**, y las fechas en una lista con variables tipo **datetime**."
   ]
  },
  {
   "cell_type": "code",
   "execution_count": null,
   "metadata": {
    "collapsed": true
   },
   "outputs": [],
   "source": []
  },
  {
   "cell_type": "markdown",
   "metadata": {},
   "source": [
    "___\n",
    "## 3. Pandas (Python Data Analysis Library)\n",
    "\n",
    "O como simplificar la vida!\n",
    "\n",
    "Esta es una librería de más alto nivel ya que se apoya en librerías como **numpy, matplotlib y datetime**.  Pero permite organizar la información en fechas y columnas permitiendo realizar análisis de mayor complejidad. **Pandas** presenta algunos beneficios tales como:\n",
    "\n",
    "- Manejo de la información por fechas: se pueden haer consultas directamente sobre las fechas.\n",
    "- Incluye el uso de nombres sobre columnas.\n",
    "- Tablas con multiples columnas a diferentes niveles.\n",
    "\n",
    "Esto lo logra mediante el uso de 2 tipos de variables nuevas, las cuales son:\n",
    "\n",
    "- Series: Piensen en un **np.array** pero en donde los indices son **datetime**.\n",
    "- DataFrames: Es un **Series** pero con múltiples variables (una tabla de excel en python!!!).\n",
    "\n",
    "Adicional a lo anterior cabe mencionar que:\n",
    "\n",
    "- Lee y escribe en multiples formatos.\n",
    "    - Eso incluye **excel!!**\n",
    "- Todo lo hace a gran velocidad."
   ]
  },
  {
   "cell_type": "code",
   "execution_count": 61,
   "metadata": {
    "collapsed": true
   },
   "outputs": [],
   "source": [
    "import pandas as pd "
   ]
  },
  {
   "cell_type": "code",
   "execution_count": 103,
   "metadata": {},
   "outputs": [],
   "source": [
    "#Lectura de un archivo de excel tomando fechas y demas \n",
    "Precip = pd.read_excel('P_26180240.xlsx', parse_dates=True, index_col=0)"
   ]
  },
  {
   "cell_type": "code",
   "execution_count": 104,
   "metadata": {},
   "outputs": [
    {
     "data": {
      "text/plain": [
       "<matplotlib.axes._subplots.AxesSubplot at 0x7fc67e7cdb10>"
      ]
     },
     "execution_count": 104,
     "metadata": {},
     "output_type": "execute_result"
    },
    {
     "data": {
      "image/png": "[encoded data removed]",
      "text/plain": [
       "<matplotlib.figure.Figure at 0x7fc67e7441d0>"
      ]
     },
     "metadata": {},
     "output_type": "display_data"
    }
   ],
   "source": [
    "#plot de un año cualquiera \n",
    "Precip['1995'].plot()"
   ]
  },
  {
   "cell_type": "code",
   "execution_count": 106,
   "metadata": {},
   "outputs": [
    {
     "data": {
      "text/plain": [
       "<matplotlib.axes._subplots.AxesSubplot at 0x7fc67a6e5090>"
      ]
     },
     "execution_count": 106,
     "metadata": {},
     "output_type": "execute_result"
    },
    {
     "data": {
      "image/png": "[encoded data removed]",
      "text/plain": [
       "<matplotlib.figure.Figure at 0x7fc67a6d6c10>"
      ]
     },
     "metadata": {},
     "output_type": "display_data"
    }
   ],
   "source": [
    "#Plot de la precipitación en mayo \n",
    "Precip['2005-5'].plot()"
   ]
  },
  {
   "cell_type": "code",
   "execution_count": 117,
   "metadata": {},
   "outputs": [
    {
     "data": {
      "text/plain": [
       "<matplotlib.text.Text at 0x7fc646b75350>"
      ]
     },
     "execution_count": 117,
     "metadata": {},
     "output_type": "execute_result"
    },
    {
     "data": {
      "image/png": "[encoded data removed]",
      "text/plain": [
       "<matplotlib.figure.Figure at 0x7fc646de8890>"
      ]
     },
     "metadata": {},
     "output_type": "display_data"
    }
   ],
   "source": [
    "#Arma el layout de la figura con una forma especifica\n",
    "fig = pl.figure(figsize=(7,5))\n",
    "#Le pasa el layout a un elemento que permite manejar los ejes.\n",
    "ax = fig.add_subplot(111)\n",
    "#Agrea anual la precipitacion y hace el histograma\n",
    "Precip.resample('A').sum().hist(bins = 7, ax = ax)\n",
    "#SEt de la figura editando el objeto axis (ax)\n",
    "ax.tick_params(labelsize = 16)\n",
    "ax.set_xlabel(u'Precipitación anual [$mm$]', size = 17)\n",
    "ax.set_ylabel(u'Ocurrencia', size = 17)\n",
    "ax.set_title(' ')"
   ]
  },
  {
   "cell_type": "markdown",
   "metadata": {},
   "source": [
    "Como pueden ver en el ejemplo anterior, en **pandas** es posible cambiar de resolución temporal de una forma fácil, se deben conocer las letras asociadas a cada tipo:\n",
    "\n",
    "- anual: A\n",
    "- mensual: m\n",
    "- diario: D\n",
    "- horario: H\n",
    "- minutos: M\n",
    "\n",
    "Cada letra se puede combinar con un numero para asignar una escala temporal específica, por ejemplo para conocer como es la serie en su suma cada 5 días se escribe: 5D"
   ]
  },
  {
   "cell_type": "code",
   "execution_count": 118,
   "metadata": {
    "collapsed": true
   },
   "outputs": [],
   "source": [
    "#Convierte a lluvia cada 5 dias sumandola (puede ser por otras metodologías, incluye propias)\n",
    "Precip5D = Precip.resample('5D').sum()"
   ]
  },
  {
   "cell_type": "code",
   "execution_count": 127,
   "metadata": {},
   "outputs": [
    {
     "data": {
      "image/png": "[encoded data removed]",
      "text/plain": [
       "<matplotlib.figure.Figure at 0x7fc64465c850>"
      ]
     },
     "metadata": {},
     "output_type": "display_data"
    }
   ],
   "source": [
    "fig = pl.figure(figsize=(12,5))\n",
    "ax = fig.add_subplot(111)\n",
    "Precip5D['1995'].plot(ax = ax, lw = 3)\n",
    "Precip['1995'].plot(ax = ax, lw = 2)\n",
    "ax.tick_params(labelsize = 16)\n",
    "ax.grid()"
   ]
  },
  {
   "cell_type": "markdown",
   "metadata": {},
   "source": [
    "También se pueden hacer consultas por año, mes, día, etc. Es decir, a pandas se le puede preguntar por los datos de un mes en específico o de todos así:"
   ]
  },
  {
   "cell_type": "code",
   "execution_count": 131,
   "metadata": {},
   "outputs": [
    {
     "data": {
      "text/plain": [
       "array([[<matplotlib.axes._subplots.AxesSubplot object at 0x7fc644309090>]], dtype=object)"
      ]
     },
     "execution_count": 131,
     "metadata": {},
     "output_type": "execute_result"
    },
    {
     "data": {
      "image/png": "[encoded data removed]",
      "text/plain": [
       "<matplotlib.figure.Figure at 0x7fc644372910>"
      ]
     },
     "metadata": {},
     "output_type": "display_data"
    }
   ],
   "source": [
    "Mes = Precip[Precip.index.month == 1]\n",
    "Mes.hist()"
   ]
  },
  {
   "cell_type": "markdown",
   "metadata": {},
   "source": [
    "### Ejercicio Pandas:\n",
    "\n",
    "Teniendo en cuenta lo anterior, tome la serie de tiempo de precipitación y obtenga la media mensual multi-anual de la misma, grafíquela con sus bandas de confianza entendidas como: $\\mu + \\sigma$ y $\\mu - \\sigma$.\n",
    "Haga una gráfica de la que se sienta orgulloso!."
   ]
  },
  {
   "cell_type": "code",
   "execution_count": null,
   "metadata": {
    "collapsed": true
   },
   "outputs": [],
   "source": []
  }
 ],
 "metadata": {
  "kernelspec": {
   "display_name": "Python 2",
   "language": "python",
   "name": "python2"
  },
  "language_info": {
   "codemirror_mode": {
    "name": "ipython",
    "version": 2
   },
   "file_extension": ".py",
   "mimetype": "text/x-python",
   "name": "python",
   "nbconvert_exporter": "python",
   "pygments_lexer": "ipython2",
   "version": "2.7.6"
  }
 },
 "nbformat": 4,
 "nbformat_minor": 1
}
