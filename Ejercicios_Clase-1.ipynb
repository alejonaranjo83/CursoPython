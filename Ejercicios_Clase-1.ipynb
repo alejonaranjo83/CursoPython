{
 "cells": [
  {
   "cell_type": "markdown",
   "metadata": {},
   "source": [
    "# Ejercicios clase 1\n",
    "\n",
    "Ejercicios con Listas: A continuación se plantean múltiples ejercicios con listas, con los que se busca dar uso a las diferentes funcionalidades que estas ofrecen:\n",
    "\n",
    "1. Llenado de una lista con números aleatorios **(append)**.\n",
    "2. Búsqueda de información al interior de una lista **(index)** y eliminación **(pop, remove)**.\n",
    "3. Ejercicio combinado de listas y cláusulas **if**, **for**, etc.\n",
    "\n",
    "___\n",
    "## Ejercicio 1:\n",
    "\n",
    "Los números pseudo-aleatorios distribuidos uniformemente se pueden generar mediante un número semilla o valor inicial ($x_0$) y un par de números constantes ($a$ y $b$), utilizando la siguiente ecuación genere 100 números aleatorios, posteriormente presente los números como una serie de tiempo y como un histograma, ¿que le pasa al histograma si se generan 10000 números?.\n",
    "\n",
    "$x_{n+1} = mod(aX_{n} + b, m)$\n",
    "\n",
    "Los números al final generados deben ser divididos por $m$ para quedar oscilando entre $0$ y $1$."
   ]
  },
  {
   "cell_type": "code",
   "execution_count": null,
   "metadata": {
    "collapsed": true
   },
   "outputs": [],
   "source": []
  },
  {
   "cell_type": "markdown",
   "metadata": {},
   "source": [
    "## Ejercicio 1, parte 2:\n",
    "\n",
    "Ahora con los números aleatorios uniformes genere una serie de números aleatorios que se distribuyan normal, para esto primero defina una función que genere número uniformes y posteriormente genere los números normales, ya que se requiere de dos series uniformes para generar una serie normal. La conversión se realiza mediante el método de **Box Muller** el cual utiliza la ecuación a continuación descrita:\n",
    "\n",
    "$Z_0 = \\sqrt{-2 ln U_1} cos 2\\pi U_2$\n",
    "\n",
    "Donde $U_1$ y $U_2$ son lass series uniformes generadas por la función de generación uniforme.\n",
    "\n",
    "Ejemplo de definición de funciones:"
   ]
  },
  {
   "cell_type": "code",
   "execution_count": null,
   "metadata": {
    "collapsed": true
   },
   "outputs": [],
   "source": []
  },
  {
   "cell_type": "markdown",
   "metadata": {},
   "source": [
    "## Ejercicio 2:\n",
    "\n",
    "- Defina una función con parámetros de entrada: $N$ cantidad de entradas y una **Lista**, para cada entrada la función debe solicitar una entrada, si la lista ya existe la función debe actualizar la lista, no sobre-escribirla.\n",
    "- Genere una función que busque un elemento sobre la lista construida con la función anterior y borre la primera ocurrendia de ese elemento, esto sin que genere errores.\n",
    "- Escriba una tercera función que borre todas las entradas que coincidan con un elemento buscado, sin generar un error.\n",
    "- **Última**: Una función que tome un elemento buscado y le concatene un elemento entregado como argumento.\n",
    "\n"
   ]
  },
  {
   "cell_type": "code",
   "execution_count": null,
   "metadata": {
    "collapsed": true
   },
   "outputs": [],
   "source": []
  }
 ],
 "metadata": {
  "kernelspec": {
   "display_name": "Python 2",
   "language": "python",
   "name": "python2"
  },
  "language_info": {
   "codemirror_mode": {
    "name": "ipython",
    "version": 2
   },
   "file_extension": ".py",
   "mimetype": "text/x-python",
   "name": "python",
   "nbconvert_exporter": "python",
   "pygments_lexer": "ipython2",
   "version": "2.7.6"
  }
 },
 "nbformat": 4,
 "nbformat_minor": 1
}
